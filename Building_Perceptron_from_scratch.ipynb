{
  "cells": [
    {
      "cell_type": "markdown",
      "metadata": {
        "id": "view-in-github",
        "colab_type": "text"
      },
      "source": [
        "<a href=\"https://colab.research.google.com/github/sznajder/Notebooks/blob/master/Building_Perceptron_from_scratch.ipynb\" target=\"_parent\"><img src=\"https://colab.research.google.com/assets/colab-badge.svg\" alt=\"Open In Colab\"/></a>"
      ]
    },
    {
      "cell_type": "markdown",
      "metadata": {
        "id": "y7_r0qgqRgA3"
      },
      "source": [
        "## Copied from \n",
        "https://github.com/python-engineer/MLfromscratch/blob/master/mlfromscratch/perceptron.py\n",
        "\n",
        "In this notebook, we are going to build a neural network called the Perceptron using numpy and successfully train.\n",
        "\n",
        "## What is a neural network?\n",
        "A neural network is a type of machine learning model which is inspired by our neurons in the brain where many neurons are connected with many other neurons to translate an input to an output (simple right?). Mostly we can look at any machine learning model and think of it as a function which takes an input and produces the desired output; it's the same with a neural network."
      ]
    },
    {
      "cell_type": "markdown",
      "metadata": {
        "id": "X-hl9m_5RgA-"
      },
      "source": [
        "## What is a Perceptron?"
      ]
    },
    {
      "cell_type": "markdown",
      "metadata": {
        "id": "irYCMIqKRgA_"
      },
      "source": [
        "The perceptron is an artificial neuron that constitutes the basic building block of many neural network architectures. Think of the perceptron as function which takes a bunch of inputs multiply them with weights and add a bias term and activate this linear transformation with a nonlinearity to generate an output.<br/>\n",
        "<center>$Z= \\Theta( W \\cdot X + {b}) $<center> <br/>\n",
        "<img src=\"https://raw.githubusercontent.com/aayushmnit/Deep_learning_explorations/master/1_MLP_from_scratch/perceptron.png\" align='center'>\n",
        "<center>*Fig 1: Perceptron image*<center> <br/>\n",
        "<div align='right'>\n",
        "</div>\n",
        "\n",
        "\n",
        "The nonlinear activation is usually a sigmoid function that will return a number between 0 and 1.\n",
        "\n",
        "<img width=\"512\" alt=\"SigmoidFunction\" src=\"https://upload.wikimedia.org/wikipedia/commons/thumb/b/b5/SigmoidFunction.png/512px-SigmoidFunction.png\">\n",
        "\n",
        "<center>*Fig 2: Sigmoid Function*<center> <br/>"
      ]
    },
    {
      "cell_type": "markdown",
      "metadata": {
        "ExecuteTime": {
          "end_time": "2018-06-03T17:51:22.143963-05:00",
          "start_time": "2018-06-03T17:51:22.136946Z"
        },
        "id": "_i6i_ar4RgA_"
      },
      "source": [
        "Now, if we stack together a bunch of these perceptrons, side by side, it becomes what we call a Dense layer. <br/>\n",
        "<center>**Dense layer,** $\\bf f(X)= W \\cdot X + b$</center> <br/>\n",
        "*Note that bias term is now a vector and W is a weight matrix* <br/>\n",
        "<img src=\"https://raw.githubusercontent.com/aayushmnit/Deep_learning_explorations/master/1_MLP_from_scratch/single_layer_mlp.png\" align ='center'>\n",
        "<center>***Fig: Single dense layer perceptron network***<center> <br/>\n",
        "<div align='right'>*Image credit=http://www.texample.net/tikz/examples/neural-network/*</div>\n"
      ]
    },
    {
      "cell_type": "markdown",
      "metadata": {
        "ExecuteTime": {
          "end_time": "2018-06-03T17:59:18.675024-05:00",
          "start_time": "2018-06-03T17:59:18.668498Z"
        },
        "id": "3OxYitaYRgBA"
      },
      "source": [
        "Now we understand dense layer let's add a bunch of them, and that network becomes a multi-layer perceptron network."
      ]
    },
    {
      "cell_type": "markdown",
      "metadata": {
        "ExecuteTime": {
          "end_time": "2018-05-15T23:16:05.888459-05:00",
          "start_time": "2018-05-15T23:16:04.070039Z"
        },
        "id": "UGxpgQzSRgBC"
      },
      "source": [
        "So, to summarize a neural network needs few building blocks\n",
        "\n",
        "- Dense layer - a fully-connected layer, $f(X)=W \\cdot X + \\vec{b}$\n",
        "- Activation function (any nonlinear function)\n",
        "- Loss function - (crossentropy in case of multi-class classification problem)\n",
        "- Backprop algorithm - a stochastic gradient descent with backpropageted gradients\n",
        "\n",
        "Let's approach them one at a time."
      ]
    },
    {
      "cell_type": "markdown",
      "metadata": {
        "id": "hYMNL4ziRgBD"
      },
      "source": [
        "## Coding Starts here --"
      ]
    },
    {
      "cell_type": "markdown",
      "metadata": {
        "id": "NryZdf9pRgBH"
      },
      "source": [
        "Every layer will have a forward pass and backpass implementation. Let's create a main class layer which can do a forward pass *.forward()* and Backward pass *.backward().*"
      ]
    },
    {
      "cell_type": "code",
      "execution_count": 10,
      "metadata": {
        "ExecuteTime": {
          "end_time": "2018-06-03T19:03:20.951163-05:00",
          "start_time": "2018-06-03T19:03:20.941168Z"
        },
        "id": "r0uLZfmKRgBH"
      },
      "outputs": [],
      "source": [
        "import numpy as np\n",
        "\n",
        "\n",
        "class Perceptron:\n",
        "    def __init__(self, learning_rate=0.01, n_iters=1000):\n",
        "        self.lr = learning_rate\n",
        "        self.n_iters = n_iters\n",
        "        self.activation_func = self._unit_step_func\n",
        "        self.weights = None\n",
        "        self.bias = None\n",
        "\n",
        "    def fit(self, X, y):\n",
        "        n_samples, n_features = X.shape\n",
        "\n",
        "        # init parameters\n",
        "        self.weights = np.zeros(n_features)\n",
        "        self.bias = 0\n",
        "\n",
        "        y_ = np.array([1 if i > 0 else 0 for i in y])\n",
        "\n",
        "        for _ in range(self.n_iters):\n",
        "\n",
        "            for idx, x_i in enumerate(X):\n",
        "\n",
        "                linear_output = np.dot(x_i, self.weights) + self.bias\n",
        "                y_predicted = self.activation_func(linear_output)\n",
        "\n",
        "                # Perceptron update rule\n",
        "                update = self.lr * (y_[idx] - y_predicted)\n",
        "\n",
        "                self.weights += update * x_i\n",
        "                self.bias += update\n",
        "\n",
        "    def predict(self, X):\n",
        "        linear_output = np.dot(X, self.weights) + self.bias\n",
        "        y_predicted = self.activation_func(linear_output)\n",
        "        return y_predicted\n",
        "\n",
        "    def _unit_step_func(self, x):\n",
        "        return np.where(x >= 0, 1, 0)\n",
        "\n",
        "        "
      ]
    },
    {
      "cell_type": "markdown",
      "metadata": {
        "id": "IE6ZRamERgBQ"
      },
      "source": [
        "##Training loop"
      ]
    },
    {
      "cell_type": "code",
      "source": [
        "\n",
        "# Dataset\n",
        "if __name__ == \"__main__\":\n",
        "    # Imports\n",
        "    import matplotlib.pyplot as plt\n",
        "    from sklearn.model_selection import train_test_split\n",
        "    from sklearn import datasets\n",
        "\n",
        "    def accuracy(y_true, y_pred):\n",
        "        accuracy = np.sum(y_true == y_pred) / len(y_true)\n",
        "        return accuracy\n",
        "\n",
        "    X, y = datasets.make_blobs(\n",
        "        n_samples=150, n_features=2, centers=2, cluster_std=1.05, random_state=2\n",
        "    )\n",
        "    X_train, X_test, y_train, y_test = train_test_split(\n",
        "        X, y, test_size=0.2, random_state=123\n",
        "    )\n",
        "\n",
        "# Training \n",
        "    p = Perceptron(learning_rate=0.01, n_iters=1000)\n",
        "    p.fit(X_train, y_train)\n",
        "    predictions = p.predict(X_test)\n",
        "\n",
        "\n",
        "# Plot results\n",
        "    print(\"Perceptron classification accuracy\", accuracy(y_test, predictions))\n",
        "\n",
        "    fig = plt.figure()\n",
        "    ax = fig.add_subplot(1, 1, 1)\n",
        "    plt.scatter(X_train[:, 0], X_train[:, 1], marker=\"o\", c=y_train)\n",
        "\n",
        "    x0_1 = np.amin(X_train[:, 0])\n",
        "    x0_2 = np.amax(X_train[:, 0])\n",
        "\n",
        "    x1_1 = (-p.weights[0] * x0_1 - p.bias) / p.weights[1]\n",
        "    x1_2 = (-p.weights[0] * x0_2 - p.bias) / p.weights[1]\n",
        "\n",
        "    ax.plot([x0_1, x0_2], [x1_1, x1_2], \"k\")\n",
        "\n",
        "    ymin = np.amin(X_train[:, 1])\n",
        "    ymax = np.amax(X_train[:, 1])\n",
        "    ax.set_ylim([ymin - 3, ymax + 3])\n",
        "\n",
        "    plt.show()\n"
      ],
      "metadata": {
        "colab": {
          "base_uri": "https://localhost:8080/",
          "height": 282
        },
        "id": "afFY13mkz3U2",
        "outputId": "4c812501-c7d6-46c1-ea66-a098f029137e"
      },
      "execution_count": 11,
      "outputs": [
        {
          "output_type": "stream",
          "name": "stdout",
          "text": [
            "Perceptron classification accuracy 1.0\n"
          ]
        },
        {
          "output_type": "display_data",
          "data": {
            "text/plain": [
              "<Figure size 432x288 with 1 Axes>"
            ],
            "image/png": "[encoded data removed]"
          },
          "metadata": {
            "needs_background": "light"
          }
        }
      ]
    }
  ],
  "metadata": {
    "anaconda-cloud": {},
    "kernelspec": {
      "display_name": "Python 3",
      "name": "python3"
    },
    "language_info": {
      "name": "python"
    },
    "toc": {
      "colors": {
        "hover_highlight": "#DAA520",
        "navigate_num": "#000000",
        "navigate_text": "#333333",
        "running_highlight": "#FF0000",
        "selected_highlight": "#FFD700",
        "sidebar_border": "#EEEEEE",
        "wrapper_background": "#FFFFFF"
      },
      "moveMenuLeft": true,
      "nav_menu": {
        "height": "264px",
        "width": "252px"
      },
      "navigate_menu": true,
      "number_sections": true,
      "sideBar": true,
      "threshold": 4,
      "toc_cell": false,
      "toc_section_display": "block",
      "toc_window_display": false,
      "widenNotebook": false
    },
    "colab": {
      "name": "Building_Perceptron_from_scratch.ipynb",
      "provenance": [],
      "collapsed_sections": [],
      "include_colab_link": true
    }
  },
  "nbformat": 4,
  "nbformat_minor": 0
}