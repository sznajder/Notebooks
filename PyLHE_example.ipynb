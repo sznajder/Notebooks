{
 "cells": [
  {
   "cell_type": "markdown",
   "id": "3e761cca-a8fd-4390-a94b-6ca496867e99",
   "metadata": {},
   "source": [
    "# Notebook for VV Polarization Studies at Parton Level (LHE input format)"
   ]
  },
  {
   "cell_type": "code",
   "execution_count": 1,
   "id": "94119e1b-46b7-4e1f-9422-4fc4982750ab",
   "metadata": {},
   "outputs": [],
   "source": [
    "#from ROOT import TFile, gROOT, TH1D, TLegend, THStack , TChain, TLorentzVector, gDirectory\n",
    "#from tools import *\n",
    "import math\n",
    "import os\n",
    "import time\n",
    "import collections\n",
    "import itertools\n",
    "import matplotlib.pyplot as plt\n",
    "import mplhep as hep\n",
    "\n",
    "# CMS experiment styles\n",
    "hep.style.use(\"CMS\") \n"
   ]
  },
  {
   "cell_type": "markdown",
   "id": "d2854021-2db2-4c6e-831f-f3e03544ffa5",
   "metadata": {},
   "source": [
    "## Read LHE using Scikit-hep PYLHE"
   ]
  },
  {
   "cell_type": "code",
   "execution_count": 2,
   "id": "d5ce1c0f-07df-46a1-a043-7e997de0abbf",
   "metadata": {},
   "outputs": [
    {
     "ename": "NameError",
     "evalue": "name 'data_path' is not defined",
     "output_type": "error",
     "traceback": [
      "\u001b[0;31m---------------------------------------------------------------------------\u001b[0m",
      "\u001b[0;31mNameError\u001b[0m                                 Traceback (most recent call last)",
      "Cell \u001b[0;32mIn[2], line 6\u001b[0m\n\u001b[1;32m      3\u001b[0m \u001b[38;5;28;01mimport\u001b[39;00m \u001b[38;5;21;01mnumpy\u001b[39;00m \u001b[38;5;28;01mas\u001b[39;00m \u001b[38;5;21;01mnp\u001b[39;00m\n\u001b[1;32m      4\u001b[0m \u001b[38;5;28;01mimport\u001b[39;00m \u001b[38;5;21;01mpylhe\u001b[39;00m\n\u001b[0;32m----> 6\u001b[0m lhe_file \u001b[38;5;241m=\u001b[39m \u001b[43mdata_path\u001b[49m(\u001b[38;5;124m\"\u001b[39m\u001b[38;5;124m/Users/andresznajder/cernbox/data/VBS_Charlot/LHE/EWK_ZZjj_pol_LL_14_TeV_large_sample/Events/EWK_LL_14_TeV_0/unweighted_events.lhe\u001b[39m\u001b[38;5;124m\"\u001b[39m)\n\u001b[1;32m      7\u001b[0m events \u001b[38;5;241m=\u001b[39m pylhe\u001b[38;5;241m.\u001b[39mread_lhe_with_attributes(lhe_file)\n\u001b[1;32m      8\u001b[0m \u001b[38;5;28mprint\u001b[39m(\u001b[38;5;124mf\u001b[39m\u001b[38;5;124m\"\u001b[39m\u001b[38;5;124mNumber of events: \u001b[39m\u001b[38;5;132;01m{\u001b[39;00mpylhe\u001b[38;5;241m.\u001b[39mread_num_events(lhe_file)\u001b[38;5;132;01m}\u001b[39;00m\u001b[38;5;124m\"\u001b[39m)\n",
      "\u001b[0;31mNameError\u001b[0m: name 'data_path' is not defined"
     ]
    }
   ],
   "source": [
    "import awkward as ak\n",
    "import hist\n",
    "import numpy as np\n",
    "import pylhe\n",
    "\n",
    "lhe_file = \"/Users/andresznajder/cernbox/data/VBS_Charlot/LHE/EWK_ZZjj_pol_LL_14_TeV_large_sample/Events/EWK_LL_14_TeV_0/unweighted_events.lhe\"\n",
    "events = pylhe.read_lhe_with_attributes(lhe_file)\n",
    "print(f\"Number of events: {pylhe.read_num_events(lhe_file)}\")\n",
    "\n",
    "# Get event 1\n",
    "event = next(itertools.islice(events, 1, 2))\n",
    "\n",
    "# A DOT language graph of the event can be inspected as follows\n",
    "print(event.graph.source)\n",
    "\n",
    "# The graph is nicely displayed as SVG in Jupyter notebooks\n",
    "event\n",
    "\n",
    "# To save a DOT graph render the graph to a supported image format\n",
    "# (refer to the Graphviz documentation for more)\n",
    "event.graph.render(filename=\"test\", format=\"png\", cleanup=True)\n",
    "event.graph.render(filename=\"test\", format=\"pdf\", cleanup=True)\n",
    "\n",
    "# COnvert to Awkward array\n",
    "arr = pylhe.to_awkward(pylhe.read_lhe_with_attributes(lhe_file))\n",
    "\n",
    "arr\n",
    "\n",
    "# Create a  histogram\n",
    "hist1 = hist.Hist.new.Reg(100, 50, 150).Int64()\n",
    "\n",
    "# Fill a histogram\n",
    "hist1.fill((arr.particles.vector[:, -1] + arr.particles.vector[:, -2]).mass)\n",
    "\n",
    "# Plot histogram\n",
    "artists = hist1.plot1d()\n",
    "ax = artists[0].stairs.axes\n",
    "ax.set_yscale(\"log\")\n",
    "ax.set_xlabel(\"Mass [GeV]\")\n",
    "ax.set_ylabel(\"Count\")\n",
    "\n",
    "# Create histogram\n",
    "mass_hist = hist.Hist.new.Reg(30, 50, 150).Int64()\n",
    "\n",
    "# Fill Z mass peak histogram \n",
    "mass_hist.fill(\n",
    "    (events.particles.vector[:, -1] + events.particles.vector[:, -2]).mass,\n",
    "    weight=events.eventinfo.weight,\n",
    ")\n",
    "\n",
    "# Plot Z mass peak \n",
    "artists = mass_hist.plot1d()\n",
    "ax = artists[0].stairs.axes\n",
    "ax.set_yscale(\"log\")\n",
    "ax.set_xlabel(\"Mass [GeV]\")\n",
    "ax.set_ylabel(\"Count\")\n",
    "\n"
   ]
  },
  {
   "cell_type": "markdown",
   "id": "460e6501-3073-4974-bdfe-ff51f7fb636d",
   "metadata": {},
   "source": [
    "## Convert from LHE contents to Awkward Array\n",
    "## https://github.com/scikit-hep/pylhe/issues/21"
   ]
  },
  {
   "cell_type": "code",
   "execution_count": null,
   "id": "ff45b5e6-b4e1-4537-b6f7-6e6219672a74",
   "metadata": {},
   "outputs": [],
   "source": [
    "events = ak.from_iter({\n",
    "  'particles': [\n",
    "      {k:getattr(p,k) for k in pylhe.LHEParticle.fieldnames} for p in e.particles\n",
    "  ],\n",
    "  'eventinfo':  {k:getattr(e.eventinfo,k) for k in pylhe.LHEEventInfo.fieldnames}\n",
    "  }\n",
    "  \n",
    "  for e in pylhe.readLHEWithAttributes(skhep_testdata.data_path('pylhe-testfile-pr29.lhe'))\n",
    ")"
   ]
  },
  {
   "cell_type": "markdown",
   "id": "213d5432-3d3a-4f0a-9d01-8027dbc40e48",
   "metadata": {},
   "source": [
    "## Convert from AWKARD ARRAYS to PANDAS DATAFRAME and vice versa"
   ]
  },
  {
   "cell_type": "code",
   "execution_count": null,
   "id": "6dfe0a29-f418-4b05-90a1-9cbe9dd84bc0",
   "metadata": {},
   "outputs": [],
   "source": [
    "# Convert from Awkward to Pandas\n",
    "df_awk = awkward.topandas(af, flatten=True)\n",
    "print(type(df_awk))\n",
    "\n",
    "# Convert from Pandas to Awkward \n",
    "af = awkward.fromiter(df)\n",
    "print(af)\n"
   ]
  }
 ],
 "metadata": {
  "kernelspec": {
   "display_name": "Python 3 (ipykernel)",
   "language": "python",
   "name": "python3"
  },
  "language_info": {
   "codemirror_mode": {
    "name": "ipython",
    "version": 3
   },
   "file_extension": ".py",
   "mimetype": "text/x-python",
   "name": "python",
   "nbconvert_exporter": "python",
   "pygments_lexer": "ipython3",
   "version": "3.8.17"
  }
 },
 "nbformat": 4,
 "nbformat_minor": 5
}
