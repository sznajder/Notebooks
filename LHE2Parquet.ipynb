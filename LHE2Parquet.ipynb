{
 "cells": [
  {
   "cell_type": "code",
   "execution_count": 1,
   "id": "f474df43-8a80-4f31-a8f7-ff55a42f2240",
   "metadata": {
    "tags": []
   },
   "outputs": [],
   "source": [
    "import os\n",
    "import time\n",
    "import itertools\n",
    "import awkward as ak\n",
    "import pylhe\n",
    "\n",
    "paths = [ \"/Users/sznajder/cernbox/data/VBS_Charlot/LHE/EWK_ZZjj_pol_LL_14_TeV_large_sample/Events\",\n",
    "          \"/Users/sznajder/cernbox/data/VBS_Charlot/LHE/EWK_ZZjj_pol_LT_14_TeV_large_sample/Events\",\n",
    "          \"/Users/sznajder/cernbox/data/VBS_Charlot/LHE/EWK_ZZjj_pol_TT_14_TeV_large_sample/Events\"]\n",
    "pols  = [\"LL\",\"LT\",\"TT\"]\n",
    "\n",
    "# Read LHE events into AWK array format and create a samples dictionary\n",
    "for path,pol in zip(paths,pols):\n",
    "\n",
    "    # Loop over LHE files\n",
    "    events_list = []\n",
    "    for dirc,folders,files in os.walk(path):\n",
    "        print\n",
    "#       for folder in folders:\n",
    "\n",
    "        for file in files:\n",
    "            if ( file.endswith('lhe') ):\n",
    "#                print(dirc+\"/\"+file)\n",
    "                file_name = dirc+\"/\"+file\n",
    "    \n",
    "                # Read LHE file\n",
    "                events_lhe = pylhe.read_lhe_with_attributes(file_name)\n",
    "#                events_lhe = pylhe.read_lhe(file_name)\n",
    "\n",
    "                # Convert to AWK arrays\n",
    "                events_awk = pylhe.to_awkward(events_lhe)\n",
    "                events_list.append(events_awk)\n",
    "            \n",
    "#                print(f\"Number of events: {pylhe.read_num_events(file_name)}\")\n",
    "    # Concatenate list of events in AWK format\n",
    "    events_awk = ak.concatenate(events_list, axis=0)\n",
    "    \n",
    "    # Store AWK events into cache parquet format\n",
    "    ak.to_parquet(events_awk, 'EWK_ZZjj_{}_14_TeV.parquet'.format(pol))\n",
    " "
   ]
  }
 ],
 "metadata": {
  "kernelspec": {
   "display_name": "Python 3 (ipykernel)",
   "language": "python",
   "name": "python3"
  },
  "language_info": {
   "codemirror_mode": {
    "name": "ipython",
    "version": 3
   },
   "file_extension": ".py",
   "mimetype": "text/x-python",
   "name": "python",
   "nbconvert_exporter": "python",
   "pygments_lexer": "ipython3",
   "version": "3.8.16"
  }
 },
 "nbformat": 4,
 "nbformat_minor": 5
}
