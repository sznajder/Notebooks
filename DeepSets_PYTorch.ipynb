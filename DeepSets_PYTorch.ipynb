{
  "nbformat": 4,
  "nbformat_minor": 0,
  "metadata": {
    "colab": {
      "provenance": [],
      "toc_visible": true,
      "include_colab_link": true
    },
    "kernelspec": {
      "name": "python3",
      "display_name": "Python 3"
    },
    "language_info": {
      "name": "python"
    }
  },
  "cells": [
    {
      "cell_type": "markdown",
      "metadata": {
        "id": "view-in-github",
        "colab_type": "text"
      },
      "source": [
        "<a href=\"https://colab.research.google.com/github/sznajder/Notebooks/blob/master/DeepSets_PYTorch.ipynb\" target=\"_parent\"><img src=\"https://colab.research.google.com/assets/colab-badge.svg\" alt=\"Open In Colab\"/></a>"
      ]
    },
    {
      "cell_type": "markdown",
      "source": [
        "# Week 10: Deep Sets\n",
        "\n",
        "In this workshop we will be looking at Deep Sets, which appeared in the Week 5 lecture on geometric deep learning.\n",
        "We will use Deep Sets to solve some small (fairly uninteresting) problems - the workshop will be more on how to implement novel architectures in PyTorch, if they are not available as a library."
      ],
      "metadata": {
        "id": "Rwrpnh4XdnrX"
      }
    },
    {
      "cell_type": "code",
      "execution_count": null,
      "metadata": {
        "id": "_0flZ1L6cWEL"
      },
      "outputs": [],
      "source": [
        "import random\n",
        "import itertools\n",
        "import functools\n",
        "import time\n",
        "\n",
        "import numpy as np\n",
        "import pandas as pd\n",
        "import matplotlib.pyplot as plt\n",
        "\n",
        "import torch\n",
        "import torch.nn as nn"
      ]
    },
    {
      "cell_type": "markdown",
      "source": [
        "# What is a DeepSet network?\n",
        "\n",
        "Deep Sets are a particular architecture of neural network which are permutation-invariant with respect to their inputs. Such a network maps $n$ vectors in $\\mathbb{R}^k$ to a single vector in $\\mathbb{R}^r$, in such a way that the output is independent of the input order of the $n$ vectors. Furthermore, the same Deep Set network will be able to accept different numbers $n$ of input vectors."
      ],
      "metadata": {
        "id": "yjtt0yaUeAOY"
      }
    },
    {
      "cell_type": "markdown",
      "source": [
        "## The permutation representation of the symmetric group\n",
        "\n",
        "For now, we will set our input size to $\\mathbb{R}^k = \\mathbb{R}$, so our Deep Set network will be recieving $n$ scalars as input. We treat these scalars as living in the permutation representation $V_n = \\mathbb{R}^n$ of the symmetric group, where each permutation acts by permuting coordinates (i.e. acts as a permutation matrix). There are two canonical subrepresentations: the trivial subrepresentation\n",
        "$$ V_{triv} = \\mathbb{R}(1, 1, \\ldots, 1), $$\n",
        "and the \"standard\" subrepresentation\n",
        "$$ V_{std} = \\{(x_1, \\ldots, x_n) \\in \\mathbb{R}^n \\mid x_1 + \\cdots + x_n = 0\\}.$$\n",
        "Basic representation theory says that if a linear map $f \\colon V_n \\to V_n$ satisfies $f(\\sigma v) = \\sigma f(v)$ for all vectors $v \\in V_n$ and permutations $\\sigma$, the map must be block-diagonal with respect to $V_{triv}$ and $V_{std}$, and furthermore, it must be multiplication by a scalar on each of them. In more concrete terms, the matrix of $f$ must have all equal elements on the on-diagonal and on the off-diagonal:\n",
        "$$ [f] = \\begin{pmatrix} a & b & b & b \\\\ b & a & b & b \\\\ b & b & a & b \\\\ b & b & b & a \\end{pmatrix} = aI + (J - I)b,$$\n",
        "where $I$ is the identity matrix and $J$ is the all-ones matrix.\n",
        "So there is only a two-dimensional space of permutation-equivariant maps $V_n \\to V_n$ (rather than dimension $n^2$ in general). A little thought will show you that the only permutation-invariant biases that we can add as the affine part of a map are multiples of $(1, 1, \\ldots, 1)$.\n",
        "\n",
        "Regular neural networks are built out of layers that look like $\\mathbb{R}^2 \\to \\mathbb{R}^3$ with affine maps (matrices plus a vector) in between. DeepSet networks are instead built out of layers that look like\n",
        "$$ V_n \\oplus V_n \\to V_n \\oplus V_n \\oplus V_n, $$\n",
        "with equivariant maps in between. In this example there would be a 15-dimensional space of affine equivariant maps."
      ],
      "metadata": {
        "id": "pQcnobYLgc9e"
      }
    },
    {
      "cell_type": "markdown",
      "source": [
        "## Implementing the DeepSet blocks\n",
        "\n",
        "From a technical standpoint, we want to teach PyTorch about a new kind of module\n",
        "it can use to build neural networks. We will specify the input and output dimensions ($2$ and $3$ above), but _not_ about the $n$ that will be used (since it is variable). This layer needs to then store the $2(2 \\times 3) + 3 = 15$ parameters, and implement the operation which actually performs the linear map (this implementation needs to be able to accept different input cardinalities $n$). The parameters will automatically be available for training, we don't need to provide any code to do that.\n",
        "\n",
        "### Tensor details\n",
        "\n",
        "We will implement a `DeepSetLayer` which takes $V_n^{\\oplus k} \\to V_n^{\\oplus r}$, i.e. it maps $n$ vectors of length $k$ to $n$ vectors of length $r$, for variable length $n$. Let us ignore the batch coordinate for now: we will be transforming a tensor of shape $(k, n)$ to one of shape $(k, r)$. The discussion above shows that the linear map must be of the form\n",
        "$$ \\alpha \\otimes I + \\beta \\otimes J,$$\n",
        "where $I$ is the identity matrix, $J$ is the all-ones matrix, and $\\alpha, \\beta$ are arbitrary $r \\times k$ matrices. The additive bias must be of the form\n",
        "$$ +\\gamma \\otimes (1, 1, \\ldots, 1). $$\n",
        "\n",
        "**Technical note:** One can write the linear map in many different ways. We could for example choose the canonical projectors to the subrepresentations,\n",
        "$$ P_{triv}(x_1, \\ldots, x_n) = \\frac{x_1 + \\cdots + x_n}{n}(1, \\ldots, 1), \\quad P_{std} = I - P_{triv},$$\n",
        "and instead parameterise equivariant maps by $\\alpha \\otimes P_{triv} + \\beta \\otimes P_{std}$. Notice that the definition of $P_{triv}$ and $P_{std}$ depend on $n$ (in the forward pass, there will be a division by $n$). This really has an impact on the network (at least for small networks): for instance using $J$ and $I$ a network is better at calculating the sum of its inputs, wheras using the projectors it is better at calculating the mean.\n",
        "\n",
        "**Technical note 2:** When implementing $\\alpha \\otimes I + \\beta \\otimes J$, we don't actually want to multiply by the matrices $I$ and $J$. There is no point to multiplying by $I$ (just use the input directly), and multiplication by $J$ is better expressed by summing up the coordinates of the vector and then doing tensor broadcasting."
      ],
      "metadata": {
        "id": "0Lv4eckPjmW0"
      }
    },
    {
      "cell_type": "code",
      "source": [
        "def rand(shape, low, high):\n",
        "    \"\"\"Tensor of random numbers, uniformly distributed on [low, high].\"\"\"\n",
        "    return torch.rand(shape) * (high - low) + low\n",
        "\n",
        "\n",
        "class DeepSetLayer(nn.Module):\n",
        "    \"\"\"\n",
        "    DeepSetLayer(in_blocks, out_blocks) takes shape (batch, in_blocks, n) to (batch, out_blocks, n).\n",
        "    Each block of n scalars is treated as the S_n permutation representation, and maps between blocks are\n",
        "    S_n-equivariant.\n",
        "    \"\"\"\n",
        "    def __init__(self, in_blocks, out_blocks):\n",
        "        super().__init__()\n",
        "        \n",
        "        self.in_blocks = in_blocks\n",
        "        self.out_blocks = out_blocks\n",
        "        \n",
        "        # Initialisation tactic copied from nn.Linear in PyTorch\n",
        "        lim = (in_blocks)**-0.5 / 2\n",
        "\n",
        "        # Alpha corresponds to the identity, beta to the all-ones matrix, and gamma to the additive bias.\n",
        "        self.alpha = torch.nn.Parameter(data=rand((out_blocks, in_blocks), -lim, lim))\n",
        "        self.beta = torch.nn.Parameter(data=rand((out_blocks, in_blocks), -lim, lim))\n",
        "        self.gamma = torch.nn.Parameter(data=rand((out_blocks), -lim, lim))\n",
        "    \n",
        "    def forward(self, x):\n",
        "        # x has shape (batch, in_blocks, n)\n",
        "        return (\n",
        "            torch.einsum('...jz, ij -> ...iz', x, self.alpha)\n",
        "            + torch.einsum('...jz, ij -> ...iz', x.sum(axis=-1)[..., None], self.beta)\n",
        "            + self.gamma[..., None]\n",
        "        )\n",
        "\n",
        "\n",
        "# Test if we got our tensor nonsense right. For a batch size of 6, and n = 7,\n",
        "# a DeepSetLayer(2, 3) should map shape (6, 2, 7) to (6, 3, 7).\n",
        "DeepSetLayer(2, 3)(torch.rand((6, 2, 7))).shape"
      ],
      "metadata": {
        "colab": {
          "base_uri": "https://localhost:8080/"
        },
        "id": "XZFY6ckbd_NN",
        "outputId": "b42de82c-01cc-4589-93b9-822093412271"
      },
      "execution_count": null,
      "outputs": [
        {
          "output_type": "execute_result",
          "data": {
            "text/plain": [
              "torch.Size([6, 3, 7])"
            ]
          },
          "metadata": {},
          "execution_count": 47
        }
      ]
    },
    {
      "cell_type": "markdown",
      "source": [
        "## Extracting an invariant\n",
        "\n",
        "We eventually want an output of a single vector in $\\mathbb{R}^r$, rather than $n$ vectors in $\\mathbb{R}^r$, which can be either used directly, or fed into a standard neural network. The `DeepSetSum` block implements this, by summing along the last tensor dimension. (Representation-theoretically, we are projecting to a direct sum of trivial representations, which turns our equivariant network into an invariant network).\n"
      ],
      "metadata": {
        "id": "7xokxv3lodA0"
      }
    },
    {
      "cell_type": "code",
      "source": [
        "class DeepSetSum(nn.Module):\n",
        "    \"\"\"\n",
        "    DeepSetSum(blocks) takes a deep set layer of shape (batch, blocks, n) to a regular layer\n",
        "    of shape (batch, blocks) by projecting to the trivial representation and then extracting\n",
        "    a coordinate, eg\n",
        "        (1, 2, 3, 4) => project to trivial => (2.5, 2.5, 2.5, 2.5) => extract component => 2.5\n",
        "    \"\"\"\n",
        "    def __init__(self, blocks):\n",
        "        super().__init__()\n",
        "        \n",
        "        lim = (blocks)**-0.5 / 2\n",
        "        self.weight = torch.nn.Parameter(data=rand(blocks, -lim, lim))\n",
        "        self.bias = torch.nn.Parameter(data=rand(blocks, -lim, lim))\n",
        "    \n",
        "    def forward(self, x):\n",
        "        return x.sum(dim=-1) * self.weight + self.bias\n",
        "  \n",
        "# Check shapes. A DeepSetSum(3) should take shape (batch, 3, n) to (batch, 3)\n",
        "DeepSetSum(3)(torch.rand((6, 3, 7))).shape"
      ],
      "metadata": {
        "colab": {
          "base_uri": "https://localhost:8080/"
        },
        "id": "ddu2DoS2n2Vz",
        "outputId": "8aa19d7f-5e9c-4919-c94f-3092fa313c32"
      },
      "execution_count": null,
      "outputs": [
        {
          "output_type": "execute_result",
          "data": {
            "text/plain": [
              "torch.Size([6, 3])"
            ]
          },
          "metadata": {},
          "execution_count": 48
        }
      ]
    },
    {
      "cell_type": "markdown",
      "source": [
        "# Problem 1: Find the sum of a set of scalars.\n",
        "\n",
        "Given a multiset of scalars in the range $[-1, 1]$, output their sum.\n",
        "This is (of course) a rather boring task for a neural network, but it serves as somewhere we can contrast the Deep Set architecture with a more standard approach.\n",
        "\n",
        "We're using the following utility function to count the parameters (as in the number of trainable scalars) in a model:"
      ],
      "metadata": {
        "id": "EEwvD5H6paJK"
      }
    },
    {
      "cell_type": "code",
      "source": [
        "def count_parameters(model):\n",
        "    \"\"\"Return the number of trainable parameters of a model (the total number of scalars).\"\"\"\n",
        "    return sum(p.numel() for p in model.parameters() if p.requires_grad)"
      ],
      "metadata": {
        "id": "fvQmOWQ4qIbd"
      },
      "execution_count": null,
      "outputs": []
    },
    {
      "cell_type": "markdown",
      "source": [
        "## A standard neural network\n",
        "\n",
        "With a standard neural network, we will have to fix our number of scalars $n$ in advance. Other than that, it is business as usual. We just generate test data on-the-fly for this simple problem."
      ],
      "metadata": {
        "id": "_5Qc2mTqpsc8"
      }
    },
    {
      "cell_type": "code",
      "source": [
        "# Number of numbers to add (needs to be fixed for the standard network!)\n",
        "input_size = 4\n",
        "\n",
        "# Model structure.\n",
        "model = nn.Sequential(\n",
        "    nn.Linear(input_size, 20),\n",
        "    nn.ReLU(),\n",
        "    nn.Linear(20, 10),\n",
        "    nn.ReLU(),\n",
        "    nn.Linear(10, 1),\n",
        ")\n",
        "print(f\"Model has {count_parameters(model)} parameters\")\n",
        "\n",
        "# Learning rate and loss function.\n",
        "optimiser = torch.optim.SGD(model.parameters(), lr=0.005)\n",
        "loss_function = nn.L1Loss()\n",
        "\n",
        "# Samples each epoch, and batches for gradient descent.\n",
        "epochs = 30\n",
        "sample_size = 10_000\n",
        "batch_size = 16"
      ],
      "metadata": {
        "colab": {
          "base_uri": "https://localhost:8080/"
        },
        "id": "iHJvf7_Vpq_n",
        "outputId": "c69479d7-420f-4d6e-c297-4593a4ff6d84"
      },
      "execution_count": null,
      "outputs": [
        {
          "output_type": "stream",
          "name": "stdout",
          "text": [
            "Model has 321 parameters\n"
          ]
        }
      ]
    },
    {
      "cell_type": "code",
      "source": [
        "# Training loop\n",
        "recorded_loss = torch.zeros(epochs)\n",
        "\n",
        "for epoch in range(epochs):\n",
        "    samples = rand((sample_size, input_size), -1, 1)\n",
        "    total_loss = 0.0\n",
        "    \n",
        "    for i in range(0, sample_size, batch_size):\n",
        "        batch_in = samples[i:i+batch_size]\n",
        "        batch_target = batch_in.sum(dim=-1)[:, None]\n",
        "        \n",
        "        optimiser.zero_grad()\n",
        "        result = model(batch_in)\n",
        "        loss = loss_function(result, batch_target)\n",
        "        total_loss += float(loss)\n",
        "        loss.backward()\n",
        "        optimiser.step()\n",
        "    \n",
        "    recorded_loss[epoch] = total_loss\n",
        "      \n",
        "fig, ax = plt.subplots()\n",
        "ax.plot(recorded_loss)\n",
        "plt.show()\n",
        "print(f\"Final loss is {recorded_loss[-1]}\")"
      ],
      "metadata": {
        "colab": {
          "base_uri": "https://localhost:8080/",
          "height": 283
        },
        "id": "SNrOv2mYpWmy",
        "outputId": "cb2a50c5-b642-4fff-d4fa-793c3135c811"
      },
      "execution_count": null,
      "outputs": [
        {
          "output_type": "display_data",
          "data": {
            "text/plain": [
              "<Figure size 432x288 with 1 Axes>"
            ],
            "image/png": "[encoded data removed]"
          },
          "metadata": {
            "needs_background": "light"
          }
        },
        {
          "output_type": "stream",
          "name": "stdout",
          "text": [
            "Final loss is 20.522085189819336\n"
          ]
        }
      ]
    },
    {
      "cell_type": "markdown",
      "source": [
        "## Evaluation\n",
        "\n",
        "The network is doing fairly well, and by examining some explicit outputs we can see that it's almost reached invariance:"
      ],
      "metadata": {
        "id": "AsqJDyEoqWTl"
      }
    },
    {
      "cell_type": "code",
      "source": [
        "examples = torch.tensor([\n",
        "    [0, 1, 0, 1],\n",
        "    [1, 0, 1, 0],\n",
        "    [-1, 1, -1, 1],\n",
        "    [1, -1, 1, -1],\n",
        "    [0, 0, 0, 0],\n",
        "], dtype=torch.float)\n",
        "\n",
        "with torch.no_grad():\n",
        "    results = model(examples)\n",
        "\n",
        "results.numpy().round(2)"
      ],
      "metadata": {
        "colab": {
          "base_uri": "https://localhost:8080/"
        },
        "id": "yrrNBvyXqRBT",
        "outputId": "5db2894f-fec6-4ced-e7ba-478931ceafa4"
      },
      "execution_count": null,
      "outputs": [
        {
          "output_type": "execute_result",
          "data": {
            "text/plain": [
              "array([[ 2.  ],\n",
              "       [ 2.01],\n",
              "       [ 0.01],\n",
              "       [-0.03],\n",
              "       [-0.01]], dtype=float32)"
            ]
          },
          "metadata": {},
          "execution_count": 75
        }
      ]
    },
    {
      "cell_type": "markdown",
      "source": [
        "## A Deep Set network"
      ],
      "metadata": {
        "id": "PYMpd5GVrEqI"
      }
    },
    {
      "cell_type": "code",
      "source": [
        "# Model structure. Note that we don't specify the input size anywhere!!!\n",
        "model = nn.Sequential(\n",
        "    DeepSetLayer(1, 20),\n",
        "    nn.ReLU(),\n",
        "    DeepSetLayer(20, 10),\n",
        "    nn.ReLU(),\n",
        "    DeepSetLayer(10, 1),\n",
        "    DeepSetSum(1),\n",
        ")\n",
        "print(f\"Model has {count_parameters(model)} parameters\")\n",
        "\n",
        "# Learning rate and loss function.\n",
        "optimiser = torch.optim.SGD(model.parameters(), lr=0.005)\n",
        "loss_function = nn.L1Loss()\n",
        "\n",
        "# Samples each epoch, and batches for gradient descent.\n",
        "epochs = 30\n",
        "sample_size = 10_000\n",
        "batch_size = 16\n",
        "\n",
        "# Input set sizes to use during training\n",
        "input_sizes = [3, 4]"
      ],
      "metadata": {
        "colab": {
          "base_uri": "https://localhost:8080/"
        },
        "id": "dlYe4A_Gqxbk",
        "outputId": "87eef488-4d35-465a-8061-0c21ad831371"
      },
      "execution_count": null,
      "outputs": [
        {
          "output_type": "stream",
          "name": "stdout",
          "text": [
            "Model has 493 parameters\n"
          ]
        }
      ]
    },
    {
      "cell_type": "code",
      "source": [
        "import random\n",
        "\n",
        "data = []\n",
        "for n_inputs in input_sizes:\n",
        "    samples = torch.from_numpy(np.random.random_sample((sample_size//len(input_sizes), 1, n_inputs))).float()\n",
        "    for i in range(0, samples.shape[0], batch_size):\n",
        "        data += [samples[i:i+batch_size]]\n",
        "\n",
        "\n",
        "recorded_loss = torch.zeros(epochs)\n",
        "\n",
        "for epoch in range(epochs):\n",
        "    total_loss = 0.0\n",
        "    random.shuffle(data)\n",
        "    for samples in data:\n",
        "        batch_in = samples\n",
        "        batch_target = batch_in.sum(-1)\n",
        "        \n",
        "        optimiser.zero_grad()\n",
        "        result = model(batch_in)\n",
        "        loss = loss_function(result, batch_target)\n",
        "        total_loss += float(loss)\n",
        "        loss.backward()\n",
        "        optimiser.step()\n",
        "    \n",
        "    recorded_loss[epoch] = total_loss\n",
        "    # print(f\"Epoch {epoch}, loss {total_loss}\")\n",
        "\n",
        "fig, ax = plt.subplots()\n",
        "ax.plot(recorded_loss)\n",
        "#ax.set_ylim([0, 1])\n",
        "plt.show()\n",
        "print(f\"Final loss is {recorded_loss[-1]}\")"
      ],
      "metadata": {
        "colab": {
          "base_uri": "https://localhost:8080/",
          "height": 283
        },
        "id": "nSeIvkQZrdyA",
        "outputId": "dbe0797b-4287-4ec5-f354-264d53cb400b"
      },
      "execution_count": null,
      "outputs": [
        {
          "output_type": "display_data",
          "data": {
            "text/plain": [
              "<Figure size 432x288 with 1 Axes>"
            ],
            "image/png": "[encoded data removed]"
          },
          "metadata": {
            "needs_background": "light"
          }
        },
        {
          "output_type": "stream",
          "name": "stdout",
          "text": [
            "Final loss is 22.87281608581543\n"
          ]
        }
      ]
    },
    {
      "cell_type": "code",
      "source": [
        "examples = torch.tensor([\n",
        "    [0, 1, 0, 1],\n",
        "    [1, 0, 1, 0],\n",
        "    [-1, 1, -1, 1],\n",
        "    [1, -1, 1, -1],\n",
        "    [0, 0, 0, 0],\n",
        "], dtype=torch.float).reshape(-1, 1, 4)\n",
        "\n",
        "with torch.no_grad():\n",
        "    results = model(examples)\n",
        "\n",
        "results.numpy().round(2)"
      ],
      "metadata": {
        "colab": {
          "base_uri": "https://localhost:8080/"
        },
        "id": "3E30hC9WsGbZ",
        "outputId": "4c79f541-3587-48c5-b994-ac0af67b7bb3"
      },
      "execution_count": null,
      "outputs": [
        {
          "output_type": "execute_result",
          "data": {
            "text/plain": [
              "array([[ 1.99],\n",
              "       [ 1.99],\n",
              "       [-0.39],\n",
              "       [-0.39],\n",
              "       [-0.55]], dtype=float32)"
            ]
          },
          "metadata": {},
          "execution_count": 85
        }
      ]
    },
    {
      "cell_type": "code",
      "source": [],
      "metadata": {
        "id": "ONPayBTvsLNT"
      },
      "execution_count": null,
      "outputs": []
    }
  ]
}