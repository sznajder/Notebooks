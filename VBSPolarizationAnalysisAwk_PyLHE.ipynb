{
 "cells": [
  {
   "cell_type": "markdown",
   "id": "3e761cca-a8fd-4390-a94b-6ca496867e99",
   "metadata": {},
   "source": [
    "# Notebook for VV Polarization Studies at Parton Level (LHE input format)"
   ]
  },
  {
   "cell_type": "code",
   "execution_count": 1,
   "id": "94119e1b-46b7-4e1f-9422-4fc4982750ab",
   "metadata": {},
   "outputs": [],
   "source": [
    "#from ROOT import TFile, gROOT, TH1D, TLegend, THStack , TChain, TLorentzVector, gDirectory\n",
    "#from tools import *\n",
    "import math\n",
    "import os\n",
    "import time\n",
    "import collections\n",
    "import itertools\n",
    "import matplotlib.pyplot as plt\n",
    "\n",
    "import numpy as np\n",
    "import mplhep as hep\n",
    "import awkward as ak\n",
    "import vector\n",
    "vector.register_awkward()\n",
    "import hist\n",
    "import pylhe\n",
    "\n",
    "# CMS experiment styles\n",
    "hep.style.use(\"CMS\") \n"
   ]
  },
  {
   "cell_type": "code",
   "execution_count": 2,
   "id": "be017b59-5a44-40a5-b0a9-eab2f91c1f4a",
   "metadata": {
    "tags": []
   },
   "outputs": [],
   "source": [
    "## PyLHE Event format"
   ]
  },
  {
   "cell_type": "raw",
   "id": "b701fc2d-b938-4ca8-9df8-34d0817bb790",
   "metadata": {},
   "source": [
    "type: 10000 * Event[\n",
    "    eventinfo: EventInfo[\n",
    "        nparticles: float64,\n",
    "        pid: float64,\n",
    "        weight: float64,\n",
    "        scale: float64,\n",
    "        aqed: float64,\n",
    "        aqcd: float64\n",
    "    ],\n",
    "    particles: var * Particle[\n",
    "        vector: Momentum4D[\n",
    "            x: float64,\n",
    "            y: float64,\n",
    "            z: float64,\n",
    "            t: float64\n",
    "        ],\n",
    "        id: float64,\n",
    "        status: float64,\n",
    "        mother1: float64,\n",
    "        mother2: float64,\n",
    "        color1: float64,\n",
    "        color2: float64,\n",
    "        m: float64,\n",
    "        lifetime: float64,\n",
    "        spin: float64\n",
    "    ]\n",
    "]"
   ]
  },
  {
   "cell_type": "markdown",
   "id": "d2854021-2db2-4c6e-831f-f3e03544ffa5",
   "metadata": {},
   "source": [
    "## Read Events from Parquet into AWKWARD array format"
   ]
  },
  {
   "cell_type": "code",
   "execution_count": 3,
   "id": "d5ce1c0f-07df-46a1-a043-7e997de0abbf",
   "metadata": {
    "tags": []
   },
   "outputs": [
    {
     "data": {
      "text/plain": [
       "{'LL': <EventArray [{eventinfo: {...}, ...}, ..., {...}] type='227731 * Event[even...'>,\n",
       " 'LT': <EventArray [{eventinfo: {...}, ...}, ..., {...}] type='188690 * Event[even...'>,\n",
       " 'TT': <EventArray [{eventinfo: {...}, ...}, ..., {...}] type='200000 * Event[even...'>}"
      ]
     },
     "execution_count": 3,
     "metadata": {},
     "output_type": "execute_result"
    }
   ],
   "source": [
    "files_list = [ \n",
    "               \"/Users/sznajder/WorkM1/workdir/Notebooks/VBS_Charlot/EWK_ZZjj_LL_14_TeV.parquet\",\n",
    "               \"/Users/sznajder/WorkM1/workdir/Notebooks/VBS_Charlot/EWK_ZZjj_LT_14_TeV.parquet\",\n",
    "               \"/Users/sznajder/WorkM1/workdir/Notebooks/VBS_Charlot/EWK_ZZjj_TT_14_TeV.parquet\"\n",
    "             ]\n",
    "pols = [\"LL\",\"LT\",\"TT\"]\n",
    "samples = { pol : ak.from_parquet(file) for pol,file in zip(pols,files_list) }\n",
    "samples"
   ]
  },
  {
   "cell_type": "markdown",
   "id": "213d5432-3d3a-4f0a-9d01-8027dbc40e48",
   "metadata": {},
   "source": [
    "## Convert from AWKARD ARRAYS to PANDAS DATAFRAME and vice versa"
   ]
  },
  {
   "cell_type": "code",
   "execution_count": 4,
   "id": "6dfe0a29-f418-4b05-90a1-9cbe9dd84bc0",
   "metadata": {},
   "outputs": [],
   "source": [
    "# Convert from Awkward to Pandas\n",
    "#df_events = ak.topandas(events, flatten=True)\n",
    "#df_events = ak.to_dataframe(events)\n",
    "#print(type(df_awk))\n",
    "\n",
    "# Convert from Pandas to Awkward \n",
    "#af = awkward.fromiter(df)\n",
    "#print(af)"
   ]
  },
  {
   "cell_type": "markdown",
   "id": "4869819a-429a-449e-90b6-92096fd19671",
   "metadata": {},
   "source": [
    "## Loop over events to fill histos"
   ]
  },
  {
   "cell_type": "code",
   "execution_count": 10,
   "id": "7ed0687d-9026-4336-963d-33bdd7b4e89a",
   "metadata": {
    "tags": []
   },
   "outputs": [
    {
     "name": "stdout",
     "output_type": "stream",
     "text": [
      "Time to run: 1.3725321292877197 seconds\n"
     ]
    }
   ],
   "source": [
    "# Define lepton , jets and vector boson containers\n",
    "lep_collection = []\n",
    "jet_collection = []\n",
    "vbo_collection = []\n",
    "\n",
    "start = time.time()\n",
    "\n",
    "pols = [\"LL\"]\n",
    "histos ={}\n",
    "for pol in pols:\n",
    "    \n",
    "    # Define histos\n",
    "    histos.update({\n",
    "                \"hist_m4l_{}\".format(pol) :  hist.Hist.new.Reg(150, 0, 150).Int64() ,\n",
    "\n",
    "                \"hist_lep_pt_{}\".format(pol) :  hist.Hist.new.Reg(150, 0, 150).Int64() ,\n",
    "                \"hist_lep_eta_{}\".format(pol) : hist.Hist.new.Reg(50, -5,   5).Int64() ,\n",
    "                \"hist_lep_mll_{}\".format(pol) : hist.Hist.new.Reg(150, 0, 500).Int64() ,\n",
    "                \"hist_lep_m4l_{}\".format(pol) : hist.Hist.new.Reg(150, 0, 500).Int64() ,\n",
    "\n",
    "                \"hist_jet_pt_{}\".format(pol) :  hist.Hist.new.Reg(150, 0, 150).Int64() ,\n",
    "                \"hist_jet_eta_{}\".format(pol) : hist.Hist.new.Reg(50, -5,   5).Int64() ,\n",
    "                \"hist_jet_deta_{}\".format(pol) : hist.Hist.new.Reg(150,-5,  5).Int64() ,\n",
    "                \"hist_jet_mjj_{}\".format(pol) : hist.Hist.new.Reg(150,0, 5000).Int64() ,\n",
    "\n",
    "                \"hist_Z_pt_{}\".format(pol) :  hist.Hist.new.Reg(150, 0, 150).Int64() ,\n",
    "                \"hist_Z_eta_{}\".format(pol) : hist.Hist.new.Reg(50, -5, +5).Int64() ,\n",
    "                \"hist_Z_m_{}\".format(pol) : hist.Hist.new.Reg(150,  0, 500).Int64()\n",
    "              })\n",
    "    \n",
    "    \n",
    "    # Get the events AWK array\n",
    "    events = samples[pol]\n",
    "    \n",
    "    # Define a selections \n",
    "    muons     = events.particles[ ( np.abs(events.particles.id) == 13 ) ] # filter mu+ or mu-\n",
    "    electrons = events.particles[ ( np.abs(events.particles.id) == 11 ) ] # filter el+ or el-\n",
    "    leptons   = events.particles[ ( np.abs(events.particles.id) == 13 ) | \n",
    "                                  ( np.abs(events.particles.id) == 11 )  ]    \n",
    "    partons   = events.particles[ ( 0 < ( np.abs(events.particles.id) < 7 ) | \n",
    "                                   ( np.abs(events.particles.id) == 21 )) &\n",
    "                                  ( events.particles.status == 1 ) ]    \n",
    "\n",
    "    # Get 4-momenta of Z's and 4 leptons\n",
    "    p4l = leptons.vector \n",
    "    p4mu = muons[ (ak.num(muons) == 4) & (ak.sum(muons.id, axis=-1) == 0)].vector\n",
    "    p4el = electrons[ (ak.num(electrons) == 4) & (ak.sum(electrons.id, axis=-1) == 0)].vector\n",
    "    p2mu = muons[ (ak.num(muons) == 2) & (ak.sum(muons.id, axis=-1) == 0)].vector\n",
    "    p2el = electrons[ (ak.num(electrons) == 2) & (ak.sum(electrons.id, axis=-1) == 0)].vector\n",
    "    m4l = (p4l[:,0]+p4l[:,1]+p4l[:,2]+p4l[:,3]).m \n",
    "    p2l = ak.concatenate( [(p2mu[:,0]+p2mu[:,1]) , (p2el[:,0]+p2el[:,1])] )\n",
    "    ptll = p2l.pt\n",
    "    etall = p2l.eta\n",
    "    mll = p2l.m\n",
    "    \n",
    "    p2j = partons.vector\n",
    "    mjj = (p2j[:,0]+p2j[:,1]).m\n",
    "    ptjj = (p2j[:,0]+p2j[:,1]).pt\n",
    "    etajj = (p2j[:,0]+p2j[:,1]).eta\n",
    "    detajj = np.abs(partons.vector.eta[:,1]-partons.vector.eta[:,0])\n",
    "    jpt = ak.flatten(p2j.pt)\n",
    "    jeta = ak.flatten(p2j.eta)\n",
    "    \n",
    "    \n",
    "    # Fill histos    \n",
    "    \n",
    "    histos[\"hist_lep_pt_{}\".format(pol)].fill(ak.flatten(p4l.pt))\n",
    "    histos[\"hist_lep_eta_{}\".format(pol)].fill(ak.flatten(p4l.eta)) \n",
    "    histos[\"hist_lep_mll_{}\".format(pol)].fill(p2l.m)\n",
    "    histos[\"hist_lep_m4l_{}\".format(pol)].fill(ak.flatten(p4l.m)) \n",
    "    \n",
    "    histos[\"hist_jet_pt_{}\".format(pol)].fill(ak.flatten(p2j.pt)) \n",
    "    histos[\"hist_jet_eta_{}\".format(pol)].fill(ak.flatten(p2j.eta))\n",
    "    histos[\"hist_jet_deta_{}\".format(pol)].fill(detajj) \n",
    "    histos[\"hist_jet_mjj_{}\".format(pol)].fill(mjj) \n",
    "    \n",
    "    histos[\"hist_Z_pt_{}\".format(pol)].fill(ptll) \n",
    "    histos[\"hist_Z_eta_{}\".format(pol)].fill(etall)\n",
    "    histos[\"hist_Z_m_{}\".format(pol)].fill(mll) \n",
    "    \n",
    "    \n",
    "    '''\n",
    "    # Filter minimum DeltaR between partons\n",
    "    metric = np.sum(partons[:,0].deltaR2(partons[:,1]), axis=-1)\n",
    "    i_best = ak.argmin(metric, keepdims=True, axis=-1)\n",
    "    best = partons[i_best]\n",
    "    '''\n",
    "    \n",
    "    '''\n",
    "    # Define a selection using a mask to keep the AWK array sizes\n",
    "    mu_p_masked = events.particles.mask[events.particles.id == 13 ]\n",
    "    mu_n_masked = events.particles.mask[events.particles.id == -13 ]\n",
    "    el_p_masked = events.particles.mask[events.particles.id == 11 ]\n",
    "    el_n_masked = events.particles.mask[events.particles.id == -11 ]\n",
    "    '''\n",
    "    \n",
    "    '''\n",
    "    # Combine leptons into pairs that comes from Z decays and get Z 4-momentum                             \n",
    "    mu_p, mu_n = ak.unzip( ak.combinations([muons_p, muons_n],2) )\n",
    "    el_p, el_n = ak.unzip( ak.combinations([muons_p, muons_n],2) )\n",
    "    pZmumu = mu_p.vector + mu_n.vector\n",
    "    pZelel = mu_p.vector + mu_n.vector\n",
    "    '''\n",
    "\n",
    "print(f\"Time to run: {(time.time() - start)} seconds\")     "
   ]
  },
  {
   "cell_type": "markdown",
   "id": "735943ae-b250-4775-8949-485ee87fa83e",
   "metadata": {},
   "source": [
    "## Leptons plots "
   ]
  },
  {
   "cell_type": "code",
   "execution_count": 13,
   "id": "435527d2-d7c7-478f-86e7-e08c1601d59a",
   "metadata": {
    "tags": []
   },
   "outputs": [
    {
     "data": {
      "text/plain": [
       "[Text(1, 0, 'mass 4l'), Text(0, 1, 'counts')]"
      ]
     },
     "execution_count": 13,
     "metadata": {},
     "output_type": "execute_result"
    },
    {
     "data": {
      "image/png": "[encoded data removed]",
      "text/plain": [
       "<Figure size 1000x1000 with 4 Axes>"
      ]
     },
     "metadata": {},
     "output_type": "display_data"
    }
   ],
   "source": [
    "fig, ax = plt.subplots(2,2)\n",
    "ax[0,0].hist( histos[\"hist_lep_pt_LL\"], bins=100, range=(0, 1500) )\n",
    "ax[0,0].set(xlabel='Pt leptons', ylabel='counts')\n",
    "ax[0,1].hist( histos[\"hist_lep_eta_LL\"], bins=100, range=(0, 1500) )\n",
    "ax[0,1].set(xlabel='Eta leptons', ylabel='counts')\n",
    "ax[1,0].hist( histos[\"hist_lep_mll_LL\"], bins=100, range=(0,1500) )\n",
    "ax[1,0].set(xlabel='mass 2l', ylabel='counts')\n",
    "ax[1,1].hist( histos[\"hist_lep_m4l_LL\"], bins=100, range=(0, 1500) )\n",
    "ax[1,1].set(xlabel='mass 4l', ylabel='counts')"
   ]
  },
  {
   "cell_type": "markdown",
   "id": "7b0b9cf5-0883-4d05-a184-7530219dcf83",
   "metadata": {},
   "source": [
    "## Jets plots"
   ]
  },
  {
   "cell_type": "code",
   "execution_count": null,
   "id": "8951c70f-16e7-452b-8b39-f60a8cd4649c",
   "metadata": {
    "tags": []
   },
   "outputs": [],
   "source": [
    "fig, ax = plt.subplots(2,2)\n",
    "ax[0,0].hist(jpt, bins=100, range=(0, 1500) )\n",
    "ax[0,0].set(xlabel='Jet Pt', ylabel='counts')\n",
    "ax[0,1].hist(jeta, bins=100, range=(-6, 6) )\n",
    "ax[0,1].set(xlabel='Jet eta', ylabel='counts')\n",
    "ax[1,0].hist( mjj, bins=100, range=(0,5000) )\n",
    "ax[1,0].set(xlabel='M_jj', ylabel='counts')\n",
    "ax[1,1].hist( detajj, bins=100, range=(0,10) )\n",
    "ax[1,1].set(xlabel='DEta_jj', ylabel='counts')\n"
   ]
  },
  {
   "cell_type": "code",
   "execution_count": null,
   "id": "2a3cfb6f-2a17-4314-ba35-0fe762128226",
   "metadata": {},
   "outputs": [],
   "source": []
  }
 ],
 "metadata": {
  "kernelspec": {
   "display_name": "Python 3 (ipykernel)",
   "language": "python",
   "name": "python3"
  },
  "language_info": {
   "codemirror_mode": {
    "name": "ipython",
    "version": 3
   },
   "file_extension": ".py",
   "mimetype": "text/x-python",
   "name": "python",
   "nbconvert_exporter": "python",
   "pygments_lexer": "ipython3",
   "version": "3.8.16"
  }
 },
 "nbformat": 4,
 "nbformat_minor": 5
}
