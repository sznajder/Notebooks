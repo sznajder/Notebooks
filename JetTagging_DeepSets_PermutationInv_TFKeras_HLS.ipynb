{
 "cells": [
  {
   "cell_type": "markdown",
   "metadata": {
    "id": "JK0wr2onBn4d"
   },
   "source": [
    "#  DeepSet Permutation Invariant NN for Jet tagging using jet constituents from HLS data implemented by Patrick ( from paper https://arxiv.org/abs/1703.06114 )\n",
    "\n",
    "##   Original code from: https://github.com/bb511/know_dist\n",
    "\n",
    "## Author: Andre Sznajder\n",
    "\n",
    " "
   ]
  },
  {
   "cell_type": "code",
   "execution_count": 1,
   "metadata": {
    "colab": {
     "base_uri": "https://localhost:8080/"
    },
    "executionInfo": {
     "elapsed": 3006,
     "status": "ok",
     "timestamp": 1616956528247,
     "user": {
      "displayName": "Andre Sznajder",
      "photoUrl": "https://lh3.googleusercontent.com/-Bujzmul3q4w/AAAAAAAAAAI/AAAAAAAAA30/Zzdg4zcPB-8/s64/photo.jpg",
      "userId": "12562331206892861623"
     },
     "user_tz": -120
    },
    "id": "WrNOdwasBsHc",
    "outputId": "403bd6fb-ede6-43c8-9cf7-235cccf77806"
   },
   "outputs": [],
   "source": [
    "#!fusermount -u drive\n",
    "#! pip install einops\n",
    "#from google.colab import drive\n",
    "#drive.mount('/content/gdrive', force_remount=True)\n",
    "#data_dir = '/content/gdrive/My Drive/Colab Notebooks/Data/'"
   ]
  },
  {
   "cell_type": "code",
   "execution_count": 2,
   "metadata": {
    "colab": {
     "base_uri": "https://localhost:8080/"
    },
    "executionInfo": {
     "elapsed": 3272,
     "status": "ok",
     "timestamp": 1616956528520,
     "user": {
      "displayName": "Andre Sznajder",
      "photoUrl": "https://lh3.googleusercontent.com/-Bujzmul3q4w/AAAAAAAAAAI/AAAAAAAAA30/Zzdg4zcPB-8/s64/photo.jpg",
      "userId": "12562331206892861623"
     },
     "user_tz": -120
    },
    "id": "MhGGIDIvBu2V",
    "outputId": "20e67e9a-104e-4ce2-ac75-540ae8e1f459"
   },
   "outputs": [
    {
     "name": "stdout",
     "output_type": "stream",
     "text": [
      "TensorFlow 2.5.0\n",
      "No GPU available, using CPU !!!\n"
     ]
    }
   ],
   "source": [
    "import tensorflow as tf\n",
    "print(f\"TensorFlow {tf.__version__}\")\n",
    "gpus = tf.config.list_physical_devices(\"GPU\")\n",
    "if gpus:\n",
    "    print(f\"Number of available GPUs : {len(gpus)}\")\n",
    "    tf.config.set_visible_devices(gpus[0],\"GPU\")\n",
    "    tf.config.experimental.set_memory_growth(gpus[0],True)\n",
    "else:\n",
    "    print(\"No GPU available, using CPU !!!\")    \n"
   ]
  },
  {
   "cell_type": "markdown",
   "metadata": {
    "id": "TxGwUjLmBn4f"
   },
   "source": [
    "# Load train and test JetID datasets as numpy arrays"
   ]
  },
  {
   "cell_type": "code",
   "execution_count": 1,
   "metadata": {
    "executionInfo": {
     "elapsed": 3269,
     "status": "ok",
     "timestamp": 1616956528521,
     "user": {
      "displayName": "Andre Sznajder",
      "photoUrl": "https://lh3.googleusercontent.com/-Bujzmul3q4w/AAAAAAAAAAI/AAAAAAAAA30/Zzdg4zcPB-8/s64/photo.jpg",
      "userId": "12562331206892861623"
     },
     "user_tz": -120
    },
    "id": "TcXokNduBn4g"
   },
   "outputs": [
    {
     "name": "stdout",
     "output_type": "stream",
     "text": [
      "Loaded X_train_val ----> shape: (589600, 32, 3)\n",
      "Loaded X_test      ----> shape: (290400, 32, 3)\n",
      "Loaded Y_train_val ----> shape: (589600, 32, 3)\n",
      "Loaded Y_test      ----> shape: (290400, 32, 3)\n"
     ]
    }
   ],
   "source": [
    "import numpy as np\n",
    "import h5py\n",
    "import os\n",
    "from einops import rearrange, reduce, repeat\n",
    "\n",
    "\n",
    "#Data PATH\n",
    "DATA_PATH = '/Users/sznajder/WorkM1/workdir/data/'\n",
    "\n",
    "nconstit = 32\n",
    "\n",
    "X_train_val = np.load(\"../../data/X_train_val_nconst_{}.npy\".format(nconstit))\n",
    "X_test = np.load(\"../../data/X_test_nconst_{}.npy\".format(nconstit))\n",
    "Y_train_val = np.load(\"../../data/Y_train_val_nconst_{}.npy\".format(nconstit))\n",
    "Y_test = np.load(\"../../data/Y_test_nconst_{}.npy\".format(nconstit))\n",
    "\n",
    "print(\"Loaded X_train_val ----> shape:\", X_train_val.shape)\n",
    "print(\"Loaded X_test      ----> shape:\", X_test.shape)\n",
    "print(\"Loaded Y_train_val ----> shape:\", X_train_val.shape)\n",
    "print(\"Loaded Y_test      ----> shape:\", X_test.shape)\n",
    "\n",
    "nfeat = X_train_val.shape[-1]\n"
   ]
  },
  {
   "cell_type": "markdown",
   "metadata": {},
   "source": [
    "# The ground truth is incorporated in the ['g', 'q', 'w', 'z', 't'] vector of boolean, taking the form\n",
    " \n",
    "## [1, 0, 0, 0, 0] for gluons\n",
    " \n",
    "## [0, 1, 0, 0, 0] for quarks\n",
    " \n",
    "## [0, 0, 1, 0, 0] for Ws\n",
    " \n",
    "## [0, 0, 0, 1, 0] for Zs\n",
    " \n",
    "## [0, 0, 0, 0, 1] for tops\n",
    "\n",
    "## This is what is called 'one-hot' encoding of a discrete label (typical of ground truth for classification problems)\n",
    "\n"
   ]
  },
  {
   "cell_type": "markdown",
   "metadata": {
    "colab": {
     "base_uri": "https://localhost:8080/"
    },
    "executionInfo": {
     "elapsed": 6350,
     "status": "ok",
     "timestamp": 1616956531619,
     "user": {
      "displayName": "Andre Sznajder",
      "photoUrl": "https://lh3.googleusercontent.com/-Bujzmul3q4w/AAAAAAAAAAI/AAAAAAAAA30/Zzdg4zcPB-8/s64/photo.jpg",
      "userId": "12562331206892861623"
     },
     "user_tz": -120
    },
    "id": "aqEAX7zIBn40",
    "outputId": "f71a892c-d086-4df8-9e11-b1116e448764"
   },
   "source": [
    "## Define DeepSet NN Models"
   ]
  },
  {
   "cell_type": "code",
   "execution_count": 6,
   "metadata": {},
   "outputs": [],
   "source": [
    "# baseline keras model\n",
    "import tensorflow as tf\n",
    "from tensorflow import keras\n",
    "from tensorflow.keras import layers, models\n",
    "from tensorflow.keras.models import Sequential, Model\n",
    "from tensorflow.keras.optimizers import SGD, Adam, Nadam\n",
    "from tensorflow.keras.layers import BatchNormalization, Input, Activation, Dense, Conv1D, Add, RepeatVector\n",
    "from tensorflow.keras.layers import Flatten, Reshape, GlobalAveragePooling1D, Concatenate, UpSampling1D, AveragePooling1D, MaxPooling1D  \n",
    "from tensorflow.keras import utils\n",
    "from qkeras import *\n",
    "\n",
    "import tensorflow.keras.layers as KL\n",
    "\n",
    "class PermutationEquivariantMax(KL.Layer):\n",
    "    \"\"\"Permutation equivariant neural network layer with max operation.\"\"\"\n",
    "\n",
    "    def __init__(self, dim):\n",
    "        super(PermutationEquivariantMax, self).__init__()\n",
    "        self.gamma = KL.Dense(dim)\n",
    "        self.lambd = KL.Dense(dim, use_bias=False)\n",
    "\n",
    "    def call(self, inputs: np.ndarray, **kwargs):\n",
    "        x_maximum = tf.reduce_max(inputs, axis=1, keepdims=True)\n",
    "        x_maximum = self.lambd(x_maximum)\n",
    "        x = self.gamma(inputs)\n",
    "        x = x - x_maximum\n",
    "\n",
    "        return x\n",
    "\n",
    "\n",
    "class PermutationEquivariantMean(KL.Layer):\n",
    "    \"\"\"Permutation equivariant neural network layer with mean operation.\"\"\"\n",
    "\n",
    "    def __init__(self, dim):\n",
    "        super(PermutationEquivariantMean, self).__init__()\n",
    "        self.gamma = KL.Dense(dim)                 # multiply features by weights and add bias, sharing the weights and bias. Returns #dim embeded features per element \n",
    "        self.lambd = KL.Dense(dim, use_bias=False) # multiply features by weights, sharing the weights over elements. Returns #dim embeded features per element\n",
    "\n",
    "    def call(self, inputs: np.ndarray, **kwargs):\n",
    "        x_mean = tf.reduce_mean(inputs, axis=1, keepdims=True) # returns a tensor of size (#elements,#features) containing the mean of each individual feature over elements \n",
    "        x_mean = self.lambd(x_mean)   # multiply each mean feature by a weights returning #dim embeded features per element (λI)\n",
    "        x = self.gamma(inputs)        # returns #dim embeded features per element \n",
    "        x = x - x_mean                # get deviation of X from mean features (λI) \n",
    "\n",
    "        return x\n",
    "\n",
    "\n",
    "class DeepSets_Equiv(keras.Model):\n",
    "    \"\"\"Deep sets permutation equivariant graph network https://arxiv.org/abs/1703.06114.\n",
    "    Attributes:\n",
    "        nnodes_phi: Number of nodes in the layers of the phi neural network.\n",
    "        nnodes_rho: Number of nodes in the layers of the rho neural network.\n",
    "        activ: Activation function to use between the dense layers.\n",
    "    \"\"\"\n",
    "\n",
    "    def __init__(self, nnodes_phi: int = 32, nnodes_rho: int = 16, activ: str = \"elu\"):\n",
    "        super(DeepSets_Equiv, self).__init__(name=\"DeepSets_Equiv\")\n",
    "        self.nclasses = 5\n",
    "\n",
    "        self.phi = keras.Sequential( \n",
    "            [\n",
    "                PermutationEquivariantMean(nnodes_phi),\n",
    "                KL.Activation(activ),\n",
    "                PermutationEquivariantMean(nnodes_phi),\n",
    "                KL.Activation(activ),\n",
    "                PermutationEquivariantMean(nnodes_phi),\n",
    "                KL.Activation(activ),\n",
    "            ]\n",
    "        ) \n",
    "\n",
    "        self.rho = keras.Sequential(\n",
    "            [\n",
    "                KL.Dense(nnodes_rho, activation=activ), \n",
    "                KL.Dense(self.nclasses)\n",
    "            ]\n",
    "        )\n",
    "\n",
    "    def call(self, inputs: np.ndarray, **kwargs):\n",
    "        phi_output = self.phi(inputs)                    # put inputs through phi MLP ( permutation invariant layers )\n",
    "        sum_output = tf.reduce_mean(phi_output, axis=1)  # return mean over elements\n",
    "        rho_output = self.rho(sum_output)                # put mean over elements through rho MLP returning #classes outputs\n",
    "\n",
    "        return rho_output\n",
    "\n",
    "\n",
    "class DeepSets_Inv(keras.Model):\n",
    "    \"\"\"Deep sets permutation invariant graph network https://arxiv.org/abs/1703.06114.\n",
    "    Attributes:\n",
    "        nnodes_phi: Number of nodes in the layers of the phi neural network.\n",
    "        nnodes_rho: Number of nodes in the layers of the rho neural network.\n",
    "        activ: Activation function to use between the dense layers.\n",
    "    \"\"\"\n",
    "\n",
    "    def __init__(self, nnodes_phi: int = 32, nnodes_rho: int = 16, activ: str = \"elu\"):\n",
    "        super(DeepSets_Inv, self).__init__(name=\"DeepSets_Inv\")\n",
    "        self.nclasses = 5\n",
    "\n",
    "        self.phi = keras.Sequential(\n",
    "            [\n",
    "                KL.Dense(nnodes_phi),\n",
    "                KL.Activation(activ),\n",
    "                KL.Dense(nnodes_phi),\n",
    "                KL.Activation(activ),\n",
    "                KL.Dense(nnodes_phi),\n",
    "                KL.Activation(activ),\n",
    "            ]\n",
    "        )\n",
    "\n",
    "        self.rho = keras.Sequential(\n",
    "            [\n",
    "                KL.Dense(nnodes_rho, activation=activ),\n",
    "                KL.Dense(self.nclasses)\n",
    "            ]\n",
    "        )\n",
    "\n",
    "    def call(self, inputs: np.ndarray, **kwargs):\n",
    "        phi_output = self.phi(inputs)\n",
    "        sum_output = tf.reduce_mean(phi_output, axis=1)\n",
    "        rho_output = self.rho(sum_output)\n",
    "\n",
    "        return rho_output"
   ]
  },
  {
   "cell_type": "code",
   "execution_count": 21,
   "metadata": {},
   "outputs": [
    {
     "name": "stdout",
     "output_type": "stream",
     "text": [
      "Model: \"model_3\"\n",
      "_________________________________________________________________\n",
      "Layer (type)                 Output Shape              Param #   \n",
      "=================================================================\n",
      "inp (InputLayer)             [(None, 32, 3)]           0         \n",
      "_________________________________________________________________\n",
      "BatchNorm (BatchNormalizatio (None, 32, 3)             12        \n",
      "_________________________________________________________________\n",
      "dense_24 (Dense)             (None, 32, 32)            128       \n",
      "_________________________________________________________________\n",
      "activation_20 (Activation)   (None, 32, 32)            0         \n",
      "_________________________________________________________________\n",
      "dense_25 (Dense)             (None, 32, 32)            1056      \n",
      "_________________________________________________________________\n",
      "activation_21 (Activation)   (None, 32, 32)            0         \n",
      "_________________________________________________________________\n",
      "dense_26 (Dense)             (None, 32, 32)            1056      \n",
      "_________________________________________________________________\n",
      "activation_22 (Activation)   (None, 32, 32)            0         \n",
      "_________________________________________________________________\n",
      "avgpool_1 (GlobalAveragePool (None, 32)                0         \n",
      "_________________________________________________________________\n",
      "dense_27 (Dense)             (None, 16)                528       \n",
      "_________________________________________________________________\n",
      "activation_23 (Activation)   (None, 16)                0         \n",
      "_________________________________________________________________\n",
      "dense_28 (Dense)             (None, 5)                 85        \n",
      "_________________________________________________________________\n",
      "softmax_g (Activation)       (None, 5)                 0         \n",
      "=================================================================\n",
      "Total params: 2,865\n",
      "Trainable params: 2,859\n",
      "Non-trainable params: 6\n",
      "_________________________________________________________________\n"
     ]
    }
   ],
   "source": [
    "#########################################################################################################\n",
    "'''\n",
    "# Silence the info from tensorflow in which it brags that it can run on cpu nicely.\n",
    "os.environ[\"TF_CPP_MIN_LOG_LEVEL\"] = \"1\"\n",
    "keras.utils.set_random_seed(123)\n",
    "import absl.logging\n",
    "absl.logging.set_verbosity(absl.logging.ERROR)\n",
    "\n",
    "from util.terminal_colors import tcols\n",
    "from . import util as dsutil\n",
    "\n",
    "tf.keras.backend.set_floatx(\"float64\")\n",
    "\n",
    "util.util.device_info()\n",
    "outdir = util.util.make_output_directory(\"trained_deepsets\", args[\"outdir\"])\n",
    "util.util.save_hyperparameters_file(args, outdir)\n",
    "\n",
    "data = Data.shuffled(**args[\"data_hyperparams\"])\n",
    "'''\n",
    "#########################################################################################################\n",
    "\n",
    "nnodes_phi = 32\n",
    "nnodes_rho = 16\n",
    "activ      = \"elu\"\n",
    "\n",
    "# Number of target classes\n",
    "nclasses = len(Y_train_val[0]) \n",
    "\n",
    "# Instantiate Tensorflow input tensors in Batch mode \n",
    "inp = Input(shape=(nconstit,nfeat), name=\"inp\")   # Conv1D input format\n",
    "#inp = Input(shape=(1,nconstit,nfeat), name=\"input\")    # Conv2D input format\n",
    "\n",
    "\n",
    "# Input point features BatchNormalization \n",
    "h = BatchNormalization(name='BatchNorm')(inp)\n",
    "\n",
    "# Phi MLP ( permutation equivariant layers )\n",
    "h = Dense(nnodes_phi)(h)\n",
    "h = Activation(activ)(h)\n",
    "h = Dense(nnodes_phi)(h)\n",
    "h = Activation(activ)(h)\n",
    "h = Dense(nnodes_phi)(h)\n",
    "phi_out = Activation(activ)(h)\n",
    " \n",
    "\n",
    "# Agregate features (taking mean) over set elements  \n",
    "mean = GlobalAveragePooling1D(name='avgpool_1')(phi_out)      # return mean of features over elements\n",
    "#mean = tf.reduce_mean(phi_out, axis=1)                        # return mean of features over elements\n",
    " \n",
    "# Rho MLP\n",
    "h = Dense(nnodes_rho)(mean)\n",
    "h = Activation(activ)(h)\n",
    "#h = Dense(nnodes_rho)(h)\n",
    "#h = Activation(activ)(h)\n",
    "h = Dense(nclasses)(h)\n",
    "out = Activation('softmax',name='softmax_g')(h)\n",
    "\n",
    "\n",
    "# Build the model\n",
    "arch = 'DeepSets_PermutationInv'\n",
    "model = Model(inputs=inp, outputs=out)\n",
    "\n",
    "# Define the optimizer ( minimization algorithm )\n",
    "#optim = SGD(learning_rate=0.0001,decay=1e-6)\n",
    "#optim = Adam(learning_rate=0.0001)\n",
    "optim = Adam()\n",
    "\n",
    "# compile the model\n",
    "model.compile(optimizer=optim, loss='categorical_crossentropy', metrics=['categorical_accuracy'])\n",
    "\n",
    "# print the model summary\n",
    "model.summary()\n",
    "\n",
    "\n"
   ]
  },
  {
   "cell_type": "markdown",
   "metadata": {
    "id": "YlDvqPkIBn48"
   },
   "source": [
    "## Run training"
   ]
  },
  {
   "cell_type": "code",
   "execution_count": 22,
   "metadata": {
    "colab": {
     "base_uri": "https://localhost:8080/"
    },
    "executionInfo": {
     "elapsed": 9682,
     "status": "ok",
     "timestamp": 1616956534957,
     "user": {
      "displayName": "Andre Sznajder",
      "photoUrl": "https://lh3.googleusercontent.com/-Bujzmul3q4w/AAAAAAAAAAI/AAAAAAAAA30/Zzdg4zcPB-8/s64/photo.jpg",
      "userId": "12562331206892861623"
     },
     "user_tz": -120
    },
    "id": "p3lHpPv-Bn49",
    "outputId": "252bb588-0b97-49ce-c444-60926c01c2f8"
   },
   "outputs": [
    {
     "name": "stdout",
     "output_type": "stream",
     "text": [
      "Epoch 1/20\n",
      "807/807 [==============================] - 13s 15ms/step - loss: 1.1255 - categorical_accuracy: 0.5593 - val_loss: 0.9898 - val_categorical_accuracy: 0.6277\n",
      "Epoch 2/20\n",
      "807/807 [==============================] - 10s 13ms/step - loss: 0.9647 - categorical_accuracy: 0.6407 - val_loss: 0.9437 - val_categorical_accuracy: 0.6598\n",
      "Epoch 3/20\n",
      "807/807 [==============================] - 10s 13ms/step - loss: 0.9294 - categorical_accuracy: 0.6607 - val_loss: 0.9151 - val_categorical_accuracy: 0.6728\n",
      "Epoch 4/20\n",
      "807/807 [==============================] - 11s 13ms/step - loss: 0.8997 - categorical_accuracy: 0.6753 - val_loss: 0.8840 - val_categorical_accuracy: 0.6830\n",
      "Epoch 5/20\n",
      "807/807 [==============================] - 10s 13ms/step - loss: 0.8776 - categorical_accuracy: 0.6873 - val_loss: 0.8654 - val_categorical_accuracy: 0.6919\n",
      "Epoch 6/20\n",
      "807/807 [==============================] - 10s 13ms/step - loss: 0.8584 - categorical_accuracy: 0.6973 - val_loss: 0.8423 - val_categorical_accuracy: 0.7070\n",
      "Epoch 7/20\n",
      "807/807 [==============================] - 11s 13ms/step - loss: 0.8448 - categorical_accuracy: 0.7031 - val_loss: 0.8281 - val_categorical_accuracy: 0.7146\n",
      "Epoch 8/20\n",
      "807/807 [==============================] - 10s 13ms/step - loss: 0.8307 - categorical_accuracy: 0.7098 - val_loss: 0.8222 - val_categorical_accuracy: 0.7101\n",
      "Epoch 9/20\n",
      "807/807 [==============================] - 10s 13ms/step - loss: 0.8201 - categorical_accuracy: 0.7139 - val_loss: 0.8069 - val_categorical_accuracy: 0.7188\n",
      "Epoch 10/20\n",
      "807/807 [==============================] - 10s 13ms/step - loss: 0.8104 - categorical_accuracy: 0.7179 - val_loss: 0.8172 - val_categorical_accuracy: 0.7128\n",
      "Epoch 11/20\n",
      "807/807 [==============================] - 10s 13ms/step - loss: 0.8032 - categorical_accuracy: 0.7200 - val_loss: 0.7929 - val_categorical_accuracy: 0.7228\n",
      "Epoch 12/20\n",
      "807/807 [==============================] - 10s 13ms/step - loss: 0.7953 - categorical_accuracy: 0.7233 - val_loss: 0.7798 - val_categorical_accuracy: 0.7307\n",
      "Epoch 13/20\n",
      "807/807 [==============================] - 10s 13ms/step - loss: 0.7881 - categorical_accuracy: 0.7252 - val_loss: 0.7828 - val_categorical_accuracy: 0.7237\n",
      "Epoch 14/20\n",
      "807/807 [==============================] - 10s 13ms/step - loss: 0.7831 - categorical_accuracy: 0.7261 - val_loss: 0.7719 - val_categorical_accuracy: 0.7345\n",
      "Epoch 15/20\n",
      "807/807 [==============================] - 10s 13ms/step - loss: 0.7747 - categorical_accuracy: 0.7288 - val_loss: 0.7684 - val_categorical_accuracy: 0.7316\n",
      "Epoch 16/20\n",
      "807/807 [==============================] - 11s 14ms/step - loss: 0.7672 - categorical_accuracy: 0.7315 - val_loss: 0.7480 - val_categorical_accuracy: 0.7417\n",
      "Epoch 17/20\n",
      "807/807 [==============================] - 11s 14ms/step - loss: 0.7623 - categorical_accuracy: 0.7325 - val_loss: 0.7487 - val_categorical_accuracy: 0.7389\n",
      "Epoch 18/20\n",
      "807/807 [==============================] - 11s 13ms/step - loss: 0.7558 - categorical_accuracy: 0.7344 - val_loss: 0.7383 - val_categorical_accuracy: 0.7454\n",
      "Epoch 19/20\n",
      "807/807 [==============================] - 11s 13ms/step - loss: 0.7519 - categorical_accuracy: 0.7357 - val_loss: 0.7414 - val_categorical_accuracy: 0.7417\n",
      "Epoch 20/20\n",
      "807/807 [==============================] - 10s 13ms/step - loss: 0.7489 - categorical_accuracy: 0.7366 - val_loss: 0.7636 - val_categorical_accuracy: 0.7258\n",
      "Saving Model :  DeepSets_PermutationInv_nconst_32\n"
     ]
    }
   ],
   "source": [
    "from tensorflow.keras.callbacks import EarlyStopping, ModelCheckpoint, ReduceLROnPlateau, TensorBoard\n",
    "\n",
    "# early stopping callback\n",
    "es = EarlyStopping(monitor='val_categorical_accuracy', patience=10)\n",
    "\n",
    "# Learning rate scheduler \n",
    "ls = ReduceLROnPlateau(monitor='val_categorical_accuracy', factor=0.2, patience=10)\n",
    "\n",
    "# model checkpoint callback\n",
    "# this saves our model architecture + parameters into mlp_model.h5\n",
    "chkp = ModelCheckpoint('DeepSet_model.h5', monitor='val_categorical_accuracy', \n",
    "                                   verbose=0, save_best_only=True, \n",
    "                                   save_weights_only=False, mode='auto', \n",
    "                                   save_freq=1)\n",
    "\n",
    "#tb = TensorBoard(\"/Users/sznajder/WorkM1/miniforge3/tensorflow_macos/arm64/workdir/logs\")\n",
    "\n",
    "# Train classifier\n",
    "history = model.fit( X_train_val, Y_train_val, \n",
    "                    epochs=20, \n",
    "                    batch_size=512, \n",
    "                    verbose=1,\n",
    "                    callbacks=[es,ls], \n",
    "                    validation_split=0.3 )\n",
    "                    \n",
    "#                    callbacks=[early_stopping, model_checkpoint], \n",
    " \n",
    "#\n",
    "# Set NN and output name\n",
    "fname = arch+'_nconst_'+str(nmax)\n",
    "print('Saving Model : ',fname)\n",
    "\n",
    "\n",
    "# Save the model\n",
    "model.save('model_'+fname+'.h5')\n",
    "\n",
    "## Save the model weights in a separate file\n",
    "#model.save_weights('weights_'+fname+'.h5')"
   ]
  },
  {
   "cell_type": "markdown",
   "metadata": {
    "id": "np12nLtsBn5A"
   },
   "source": [
    "## Plot performance\n",
    "Here, we plot the history of the training and the performance in a ROC curve"
   ]
  },
  {
   "cell_type": "code",
   "execution_count": 23,
   "metadata": {
    "colab": {
     "base_uri": "https://localhost:8080/",
     "height": 605
    },
    "executionInfo": {
     "elapsed": 10466,
     "status": "ok",
     "timestamp": 1616956535743,
     "user": {
      "displayName": "Andre Sznajder",
      "photoUrl": "https://lh3.googleusercontent.com/-Bujzmul3q4w/AAAAAAAAAAI/AAAAAAAAA30/Zzdg4zcPB-8/s64/photo.jpg",
      "userId": "12562331206892861623"
     },
     "user_tz": -120
    },
    "id": "Z_dscosMBn5B",
    "outputId": "6f9f7a67-1607-42ab-a9f8-5635b360eaec"
   },
   "outputs": [
    {
     "name": "stdout",
     "output_type": "stream",
     "text": [
      "(array([0., 1.]), array([231937,  58463]))\n",
      "(array([0., 1.]), array([233896,  56504]))\n",
      "(array([0., 1.]), array([232073,  58327]))\n",
      "(array([0., 1.]), array([232063,  58337]))\n",
      "(array([0., 1.]), array([231631,  58769]))\n"
     ]
    },
    {
     "data": {
      "image/png": "[encoded data removed]",
      "text/plain": [
       "<Figure size 1080x720 with 4 Axes>"
      ]
     },
     "metadata": {
      "needs_background": "light"
     },
     "output_type": "display_data"
    }
   ],
   "source": [
    "from sklearn.metrics import roc_curve, auc\n",
    "import matplotlib.pyplot as plt\n",
    "\n",
    "#plt.rcParams['axes.unicode_minus'] = False\n",
    "\n",
    "# Plot loss vs epoch\n",
    "plt.figure(figsize=(15,10))\n",
    "ax = plt.subplot(2, 2, 1)\n",
    "ax.plot(history.history['loss'], label='loss')\n",
    "ax.plot(history.history['val_loss'], label='val loss')\n",
    "ax.legend(loc=\"upper right\")\n",
    "ax.set_xlabel('epoch')\n",
    "ax.set_ylabel('loss')\n",
    "\n",
    "# Plot accuracy vs epoch\n",
    "ax = plt.subplot(2, 2, 2)\n",
    "#ax.plot(history.history['accuracy'], label='accuracy')\n",
    "#ax.plot(history.history['val_accuracy'], label='val accuracy')\n",
    "ax.plot(history.history['categorical_accuracy'], label='categorical_accuracy')\n",
    "ax.plot(history.history['val_categorical_accuracy'], label='val categorical accuracy')\n",
    "ax.legend(loc=\"upper left\")\n",
    "ax.set_xlabel('epoch')\n",
    "ax.set_ylabel('acc')\n",
    "\n",
    "# Plot the ROC curves\n",
    "labels = ['gluon', 'quark', 'W', 'Z', 'top']\n",
    "fpr = {}\n",
    "tpr = {}\n",
    "auc1 = {}\n",
    "precision = {}\n",
    "recall = {}\n",
    "NN = {}\n",
    "NP = {}\n",
    "TP = {}\n",
    "FP = {}\n",
    "TN = {}\n",
    "FN = {}\n",
    "tresholds = {}\n",
    "\n",
    "\n",
    "ax = plt.subplot(2, 2, 3)\n",
    "Y_predict = model.predict(X_test)\n",
    "\n",
    "\n",
    "# Loop over classes(labels) to get metrics per class\n",
    "for i, label in enumerate(labels):\n",
    "    fpr[label], tpr[label], tresholds[label] = roc_curve(Y_test[:,i], Y_predict[:,i])\n",
    "#    precision[label], recall[label], tresholds = precision_recall_curve(Y_test[:,i], Y_predict[:,i]) \n",
    "    print( np.unique(Y_test[:,i], return_counts=True) )\n",
    "    _ , N = np.unique(Y_test[:,i], return_counts=True) # count the NEGATIVES and POSITIVES samples in your test set\n",
    "    NN[label] = N[0]                   # number of NEGATIVES \n",
    "    NP[label] = N[1]                   # number of POSITIVES\n",
    "    TP[label] = tpr[label]*NP[label]\n",
    "    FP[label] = fpr[label]*NN[label] \n",
    "    TN[label] = NN[label] - FP[label]\n",
    "    FN[label] = NP[label] - TP[label]\n",
    "\n",
    "    auc1[label] = auc(fpr[label], tpr[label])\n",
    "    ax.plot(tpr[label],fpr[label],label='%s tagger, auc = %.1f%%'%(label,auc1[label]*100.))\n",
    "\n",
    "ax.semilogy()\n",
    "ax.set_xlabel(\"sig. efficiency\")\n",
    "ax.set_ylabel(\"bkg. mistag rate\")\n",
    "ax.set_ylim(0.001,1)\n",
    "#ax.set_grid(True)\n",
    "ax.legend(loc='lower right')\n",
    "#plt.savefig('%s/ROC.pdf'%(options.outputDir))\n",
    "\n",
    "\n",
    "\n",
    "# Plot DNN output \n",
    "ax = plt.subplot(2, 2, 4)\n",
    "X = np.linspace(0.0, 1.0, 20)\n",
    "hist={}\n",
    "for i, name in enumerate(labels):\n",
    "    hist[name] = ax.hist(Y_predict, bins=X, label=name ,histtype='step')\n",
    "ax.semilogy()\n",
    "ax.set_xlabel('DNN Output')\n",
    "ax.legend(prop={'size': 10})\n",
    "ax.legend(loc='lower left')\n",
    "\n",
    "\n",
    "# Display plots\n",
    "fig = plt.gcf()\n",
    "plt.show()"
   ]
  },
  {
   "cell_type": "code",
   "execution_count": 24,
   "metadata": {},
   "outputs": [
    {
     "name": "stdout",
     "output_type": "stream",
     "text": [
      "Label =  gluon  with treshold =  0.3\n",
      "TPR =  0.3000359201546277\n",
      "FPR =  0.011662649771274096\n",
      " \n",
      "Label =  gluon  with treshold =  0.5\n",
      "TPR =  0.5000769717599165\n",
      "FPR =  0.03533287056398936\n",
      " \n",
      "Label =  gluon  with treshold =  0.8\n",
      "TPR =  0.8000102629013222\n",
      "FPR =  0.14317681094435128\n",
      " \n",
      "Label =  quark  with treshold =  0.3\n",
      "TPR =  0.3000495540138751\n",
      "FPR =  0.013031432773540377\n",
      " \n",
      "Label =  quark  with treshold =  0.5\n",
      "TPR =  0.5001592807588843\n",
      "FPR =  0.030586243458631188\n",
      " \n",
      "Label =  quark  with treshold =  0.8\n",
      "TPR =  0.8000141582896786\n",
      "FPR =  0.1420374867462462\n",
      " \n",
      "Label =  W  with treshold =  0.3\n",
      "TPR =  0.30003257496528196\n",
      "FPR =  0.004498584497119441\n",
      " \n",
      "Label =  W  with treshold =  0.5\n",
      "TPR =  0.5000257170778541\n",
      "FPR =  0.01219443881881994\n",
      " \n",
      "Label =  W  with treshold =  0.8\n",
      "TPR =  0.8000068578874278\n",
      "FPR =  0.07111555415752802\n",
      " \n",
      "Label =  Z  with treshold =  0.3\n",
      "TPR =  0.3000668529406723\n",
      "FPR =  0.004623744414232342\n",
      " \n",
      "Label =  Z  with treshold =  0.5\n",
      "TPR =  0.5000599962288085\n",
      "FPR =  0.011880394548032216\n",
      " \n",
      "Label =  Z  with treshold =  0.8\n",
      "TPR =  0.8000068567118638\n",
      "FPR =  0.07593627592507207\n",
      " \n",
      "Label =  top  with treshold =  0.3\n",
      "TPR =  0.3000731678265752\n",
      "FPR =  0.005197922557861426\n",
      " \n",
      "Label =  top  with treshold =  0.5\n",
      "TPR =  0.5000765709812997\n",
      "FPR =  0.01299048918322677\n",
      " \n",
      "Label =  top  with treshold =  0.8\n",
      "TPR =  0.8000136126188977\n",
      "FPR =  0.05143093972741127\n",
      " \n"
     ]
    },
    {
     "data": {
      "text/plain": [
       "\"\\n# Save a sample of events for HLS\\nnjets=3000\\nprint(X_test.shape)\\nnp.save('x_test.npy', X_test[0:njets,:])\\nnp.save('y_test.npy', Y_test[0:njets,:])\\n\""
      ]
     },
     "execution_count": 24,
     "metadata": {},
     "output_type": "execute_result"
    }
   ],
   "source": [
    "from sklearn.metrics import accuracy_score\n",
    "\n",
    "# Save plots\n",
    "fig.savefig(fname+'.pdf')\n",
    "\n",
    "\n",
    "# Save FPR for a given TPR value ( 30% , 50% & 80%)\n",
    "with open('FPR@TPR_'+fname+'.csv', 'w') as file:\n",
    "  file.write(\"model,label,treshold,tpr,fpr\\n\")\n",
    "  for label in labels:\n",
    "    for t in [0.3, 0.5, 0.8]:\n",
    "      index = np.argmax(tpr[label]>t)\n",
    "      file.write( arch+','+label+','+str(t)+','+str(tpr[label][index])+','+str(fpr[label][index])+'\\n' )\n",
    "      print(\"Label = \", label , \" with treshold = \",t)\n",
    "      print(\"TPR = \",tpr[label][index])\n",
    "      print(\"FPR = \",fpr[label][index])\n",
    "      print(\" \")\n",
    "               \n",
    "               \n",
    "# Save ROC AUC for each label\n",
    "with open('ROCAUC_'+fname+'.csv', 'w') as file:\n",
    "  header = labels[0]+', '+labels[1]+', '+labels[2]+', '+labels[3]+', '+labels[4]+'\\n'\n",
    "  file.write(header)\n",
    "  rocauc = str(auc1[labels[0]])+', '+str(auc1[labels[1]])+', '+str(auc1[labels[2]])+', '+str(auc1[labels[3]])+', '+str(auc1[labels[4]])\n",
    "  file.write(rocauc)\n",
    "\n",
    "\n",
    "\n",
    "# Save NN Accuracy for treshold of 0.5 for each label and the average over all classes\n",
    "acc_avg = float(accuracy_score (np.argmax(Y_test,axis=1), np.argmax(Y_predict,axis=1)))\n",
    "with open('ACCURACY_'+fname+'.csv', 'w') as file:\n",
    "  header = labels[0]+', '+labels[1]+', '+labels[2]+', '+labels[3]+', '+labels[4]+', '+'acc_avg'+'\\n'\n",
    "  file.write(header)\n",
    "  accuracy = ''\n",
    "  for label in labels:  \n",
    "    idx = np.argmax( tresholds[label] <= 0.5 )\n",
    "    accuracy += str( (TP[label][idx]+TN[label][idx])/(NP[label]+NN[label]) )+', '\n",
    "  accuracy += str(acc_avg) \n",
    "  file.write(accuracy)\n",
    "\n",
    "\n",
    "'''\n",
    "# Save confusion matrix ndarrays to .npz file\n",
    "with open('CONF_MATRIX_'+fname+'.npz', 'wb') as file:\n",
    "    vars = {}\n",
    "    vars[arch]=np.array(1) # save model name\n",
    "    for label in labels:\n",
    "        vars['tresholds_'+label+'_'+arch] = tresholds[label]\n",
    "        vars['TP_'+label+'_'+arch] = TP[label]\n",
    "        vars['FP_'+label+'_'+arch] = FP[label]\n",
    "        vars['TN_'+label+'_'+arch] = TN[label]\n",
    "        vars['FN_'+label+'_'+arch] = FN[label]\n",
    "        vars['TPR_'+arch] = tpr[label]\n",
    "        vars['FPR_'+arch] = fpr[label]\n",
    "        vars['NP_'+arch]= NP[label]\n",
    "        vars['NN_'+arch]= NN[label]\n",
    "        vars['auc_'+arch] = auc1[label] \n",
    "#        print(vars)\n",
    "    np.savez(file, **vars)\n",
    "'''\n",
    "\n",
    "'''\n",
    "# Save a sample of events for HLS\n",
    "njets=3000\n",
    "print(X_test.shape)\n",
    "np.save('x_test.npy', X_test[0:njets,:])\n",
    "np.save('y_test.npy', Y_test[0:njets,:])\n",
    "'''"
   ]
  },
  {
   "cell_type": "code",
   "execution_count": null,
   "metadata": {},
   "outputs": [],
   "source": []
  },
  {
   "cell_type": "code",
   "execution_count": null,
   "metadata": {},
   "outputs": [],
   "source": []
  },
  {
   "cell_type": "code",
   "execution_count": null,
   "metadata": {},
   "outputs": [],
   "source": []
  }
 ],
 "metadata": {
  "accelerator": "GPU",
  "colab": {
   "collapsed_sections": [],
   "name": "JetTagging_MLP_TFKeras.ipynb",
   "provenance": [
    {
     "file_id": "1_LtW5Af1ruCzp6IH18NNj2K3Vbgqto-F",
     "timestamp": 1613800914899
    },
    {
     "file_id": "https://github.com/thongonary/machine_learning_vbscan/blob/master/5-conv2d.ipynb",
     "timestamp": 1551264063701
    }
   ]
  },
  "kernelspec": {
   "display_name": "Python 3 (ipykernel)",
   "language": "python",
   "name": "python3"
  },
  "language_info": {
   "codemirror_mode": {
    "name": "ipython",
    "version": 3
   },
   "file_extension": ".py",
   "mimetype": "text/x-python",
   "name": "python",
   "nbconvert_exporter": "python",
   "pygments_lexer": "ipython3",
   "version": "3.8.16"
  }
 },
 "nbformat": 4,
 "nbformat_minor": 4
}
